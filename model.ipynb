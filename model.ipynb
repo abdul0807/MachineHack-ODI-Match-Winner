{
 "cells": [
  {
   "cell_type": "markdown",
   "metadata": {
    "toc": true
   },
   "source": [
    "<h1>Table of Contents<span class=\"tocSkip\"></span></h1>\n",
    "<div class=\"toc\"><ul class=\"toc-item\"><li><span><a href=\"#loading-data\" data-toc-modified-id=\"loading-data-1\"><span class=\"toc-item-num\">1&nbsp;&nbsp;</span>loading data</a></span></li><li><span><a href=\"#converting-to-binary-classification-problem\" data-toc-modified-id=\"converting-to-binary-classification-problem-2\"><span class=\"toc-item-num\">2&nbsp;&nbsp;</span>converting to binary classification problem</a></span></li><li><span><a href=\"#cross-validation\" data-toc-modified-id=\"cross-validation-3\"><span class=\"toc-item-num\">3&nbsp;&nbsp;</span>cross validation</a></span></li><li><span><a href=\"#submission\" data-toc-modified-id=\"submission-4\"><span class=\"toc-item-num\">4&nbsp;&nbsp;</span>submission</a></span></li></ul></div>"
   ]
  },
  {
   "cell_type": "code",
   "execution_count": 1,
   "metadata": {},
   "outputs": [],
   "source": [
    "%matplotlib inline\n",
    "\n",
    "import sys\n",
    "import pandas as pd\n",
    "import numpy as np\n",
    "from pathlib import Path\n",
    "\n",
    "import os\n",
    "import gc\n",
    "\n",
    "import warnings\n",
    "warnings.filterwarnings('ignore')\n",
    "\n",
    "import matplotlib.pyplot as plt\n",
    "from tqdm.notebook import tqdm as tqdm\n",
    "\n",
    "pd.set_option(\"max_colwidth\", -1)\n",
    "pd.set_option(\"max_columns\", 500)\n",
    "pd.set_option(\"max_rows\", 500)\n",
    "\n",
    "plt.style.use('fivethirtyeight')\n",
    "plt.rcParams[\"axes.labelsize\"] = 16\n",
    "plt.rcParams[\"xtick.labelsize\"] = 14\n",
    "plt.rcParams[\"ytick.labelsize\"] = 14"
   ]
  },
  {
   "cell_type": "markdown",
   "metadata": {},
   "source": [
    "### loading data"
   ]
  },
  {
   "cell_type": "code",
   "execution_count": 2,
   "metadata": {},
   "outputs": [
    {
     "name": "stdout",
     "output_type": "stream",
     "text": [
      "(2508, 10)\n"
     ]
    },
    {
     "data": {
      "text/html": [
       "<div>\n",
       "<style scoped>\n",
       "    .dataframe tbody tr th:only-of-type {\n",
       "        vertical-align: middle;\n",
       "    }\n",
       "\n",
       "    .dataframe tbody tr th {\n",
       "        vertical-align: top;\n",
       "    }\n",
       "\n",
       "    .dataframe thead th {\n",
       "        text-align: right;\n",
       "    }\n",
       "</style>\n",
       "<table border=\"1\" class=\"dataframe\">\n",
       "  <thead>\n",
       "    <tr style=\"text-align: right;\">\n",
       "      <th></th>\n",
       "      <th>Team1</th>\n",
       "      <th>Team2</th>\n",
       "      <th>Stadium</th>\n",
       "      <th>HostCountry</th>\n",
       "      <th>Team1_Venue</th>\n",
       "      <th>Team2_Venue</th>\n",
       "      <th>Team1_Innings</th>\n",
       "      <th>Team2_Innings</th>\n",
       "      <th>MonthOfMatch</th>\n",
       "      <th>MatchWinner</th>\n",
       "    </tr>\n",
       "  </thead>\n",
       "  <tbody>\n",
       "    <tr>\n",
       "      <th>0</th>\n",
       "      <td>5</td>\n",
       "      <td>4</td>\n",
       "      <td>37</td>\n",
       "      <td>4</td>\n",
       "      <td>Home</td>\n",
       "      <td>Away</td>\n",
       "      <td>Second</td>\n",
       "      <td>First</td>\n",
       "      <td>Dec</td>\n",
       "      <td>4</td>\n",
       "    </tr>\n",
       "    <tr>\n",
       "      <th>1</th>\n",
       "      <td>1</td>\n",
       "      <td>14</td>\n",
       "      <td>84</td>\n",
       "      <td>7</td>\n",
       "      <td>Neutral</td>\n",
       "      <td>Neutral</td>\n",
       "      <td>First</td>\n",
       "      <td>Second</td>\n",
       "      <td>Sep</td>\n",
       "      <td>1</td>\n",
       "    </tr>\n",
       "    <tr>\n",
       "      <th>2</th>\n",
       "      <td>9</td>\n",
       "      <td>15</td>\n",
       "      <td>47</td>\n",
       "      <td>9</td>\n",
       "      <td>Home</td>\n",
       "      <td>Away</td>\n",
       "      <td>First</td>\n",
       "      <td>Second</td>\n",
       "      <td>Feb</td>\n",
       "      <td>9</td>\n",
       "    </tr>\n",
       "    <tr>\n",
       "      <th>3</th>\n",
       "      <td>7</td>\n",
       "      <td>2</td>\n",
       "      <td>102</td>\n",
       "      <td>6</td>\n",
       "      <td>Home</td>\n",
       "      <td>Away</td>\n",
       "      <td>First</td>\n",
       "      <td>Second</td>\n",
       "      <td>Aug</td>\n",
       "      <td>2</td>\n",
       "    </tr>\n",
       "    <tr>\n",
       "      <th>4</th>\n",
       "      <td>6</td>\n",
       "      <td>8</td>\n",
       "      <td>46</td>\n",
       "      <td>5</td>\n",
       "      <td>Home</td>\n",
       "      <td>Away</td>\n",
       "      <td>First</td>\n",
       "      <td>Second</td>\n",
       "      <td>Aug</td>\n",
       "      <td>6</td>\n",
       "    </tr>\n",
       "  </tbody>\n",
       "</table>\n",
       "</div>"
      ],
      "text/plain": [
       "   Team1  Team2  Stadium  HostCountry Team1_Venue Team2_Venue Team1_Innings  \\\n",
       "0  5      4      37       4            Home        Away        Second         \n",
       "1  1      14     84       7            Neutral     Neutral     First          \n",
       "2  9      15     47       9            Home        Away        First          \n",
       "3  7      2      102      6            Home        Away        First          \n",
       "4  6      8      46       5            Home        Away        First          \n",
       "\n",
       "  Team2_Innings MonthOfMatch  MatchWinner  \n",
       "0  First         Dec          4            \n",
       "1  Second        Sep          1            \n",
       "2  Second        Feb          9            \n",
       "3  Second        Aug          2            \n",
       "4  Second        Aug          6            "
      ]
     },
     "execution_count": 2,
     "metadata": {},
     "output_type": "execute_result"
    }
   ],
   "source": [
    "train = pd.read_csv(\"Train.csv\", index_col=None)\n",
    "print(train.shape)\n",
    "train.head()"
   ]
  },
  {
   "cell_type": "code",
   "execution_count": 3,
   "metadata": {},
   "outputs": [
    {
     "name": "stdout",
     "output_type": "stream",
     "text": [
      "(1075, 9)\n"
     ]
    },
    {
     "data": {
      "text/html": [
       "<div>\n",
       "<style scoped>\n",
       "    .dataframe tbody tr th:only-of-type {\n",
       "        vertical-align: middle;\n",
       "    }\n",
       "\n",
       "    .dataframe tbody tr th {\n",
       "        vertical-align: top;\n",
       "    }\n",
       "\n",
       "    .dataframe thead th {\n",
       "        text-align: right;\n",
       "    }\n",
       "</style>\n",
       "<table border=\"1\" class=\"dataframe\">\n",
       "  <thead>\n",
       "    <tr style=\"text-align: right;\">\n",
       "      <th></th>\n",
       "      <th>Team1</th>\n",
       "      <th>Team2</th>\n",
       "      <th>Stadium</th>\n",
       "      <th>HostCountry</th>\n",
       "      <th>Team1_Venue</th>\n",
       "      <th>Team2_Venue</th>\n",
       "      <th>Team1_Innings</th>\n",
       "      <th>Team2_Innings</th>\n",
       "      <th>MonthOfMatch</th>\n",
       "    </tr>\n",
       "  </thead>\n",
       "  <tbody>\n",
       "    <tr>\n",
       "      <th>0</th>\n",
       "      <td>2</td>\n",
       "      <td>4</td>\n",
       "      <td>34</td>\n",
       "      <td>1</td>\n",
       "      <td>Home</td>\n",
       "      <td>Away</td>\n",
       "      <td>First</td>\n",
       "      <td>Second</td>\n",
       "      <td>Oct</td>\n",
       "    </tr>\n",
       "    <tr>\n",
       "      <th>1</th>\n",
       "      <td>14</td>\n",
       "      <td>1</td>\n",
       "      <td>19</td>\n",
       "      <td>15</td>\n",
       "      <td>Home</td>\n",
       "      <td>Away</td>\n",
       "      <td>First</td>\n",
       "      <td>Second</td>\n",
       "      <td>Mar</td>\n",
       "    </tr>\n",
       "    <tr>\n",
       "      <th>2</th>\n",
       "      <td>9</td>\n",
       "      <td>10</td>\n",
       "      <td>130</td>\n",
       "      <td>14</td>\n",
       "      <td>Neutral</td>\n",
       "      <td>Neutral</td>\n",
       "      <td>Second</td>\n",
       "      <td>First</td>\n",
       "      <td>Dec</td>\n",
       "    </tr>\n",
       "    <tr>\n",
       "      <th>3</th>\n",
       "      <td>9</td>\n",
       "      <td>10</td>\n",
       "      <td>8</td>\n",
       "      <td>9</td>\n",
       "      <td>Home</td>\n",
       "      <td>Away</td>\n",
       "      <td>First</td>\n",
       "      <td>Second</td>\n",
       "      <td>Dec</td>\n",
       "    </tr>\n",
       "    <tr>\n",
       "      <th>4</th>\n",
       "      <td>5</td>\n",
       "      <td>15</td>\n",
       "      <td>130</td>\n",
       "      <td>14</td>\n",
       "      <td>Neutral</td>\n",
       "      <td>Neutral</td>\n",
       "      <td>First</td>\n",
       "      <td>Second</td>\n",
       "      <td>Oct</td>\n",
       "    </tr>\n",
       "  </tbody>\n",
       "</table>\n",
       "</div>"
      ],
      "text/plain": [
       "   Team1  Team2  Stadium  HostCountry Team1_Venue Team2_Venue Team1_Innings  \\\n",
       "0  2      4      34       1            Home        Away        First          \n",
       "1  14     1      19       15           Home        Away        First          \n",
       "2  9      10     130      14           Neutral     Neutral     Second         \n",
       "3  9      10     8        9            Home        Away        First          \n",
       "4  5      15     130      14           Neutral     Neutral     First          \n",
       "\n",
       "  Team2_Innings MonthOfMatch  \n",
       "0  Second        Oct          \n",
       "1  Second        Mar          \n",
       "2  First         Dec          \n",
       "3  Second        Dec          \n",
       "4  Second        Oct          "
      ]
     },
     "execution_count": 3,
     "metadata": {},
     "output_type": "execute_result"
    }
   ],
   "source": [
    "test = pd.read_csv(\"Test.csv\", index_col=None)\n",
    "print(test.shape)\n",
    "test.head()"
   ]
  },
  {
   "cell_type": "code",
   "execution_count": 4,
   "metadata": {},
   "outputs": [
    {
     "name": "stdout",
     "output_type": "stream",
     "text": [
      "cat cols ['Team1', 'Team2', 'HostCountry', 'Team1_Venue', 'Team2_Venue', 'Team1_Innings', 'Team2_Innings', 'MonthOfMatch', 'Stadium']\n",
      "num cols []\n"
     ]
    }
   ],
   "source": [
    "target = 'MatchWinner'\n",
    "cat_cols = ['Team1', 'Team2', 'HostCountry', 'Team1_Venue', 'Team2_Venue', \n",
    "            'Team1_Innings', 'Team2_Innings', 'MonthOfMatch', 'Stadium']\n",
    "print(\"cat cols {}\".format(cat_cols))\n",
    "num_cols = [col for col in train.columns if col not in [target]+cat_cols]\n",
    "print(\"num cols {}\".format(num_cols))"
   ]
  },
  {
   "cell_type": "code",
   "execution_count": 5,
   "metadata": {},
   "outputs": [
    {
     "data": {
      "text/plain": [
       "1     379\n",
       "5     318\n",
       "10    316\n",
       "14    262\n",
       "13    246\n",
       "12    245\n",
       "4     237\n",
       "9     223\n",
       "15    87 \n",
       "2     70 \n",
       "6     33 \n",
       "0     27 \n",
       "7     24 \n",
       "11    18 \n",
       "8     15 \n",
       "3     8  \n",
       "Name: MatchWinner, dtype: int64"
      ]
     },
     "execution_count": 5,
     "metadata": {},
     "output_type": "execute_result"
    }
   ],
   "source": [
    "win_count = train[target].value_counts()\n",
    "win_count"
   ]
  },
  {
   "cell_type": "code",
   "execution_count": 6,
   "metadata": {},
   "outputs": [
    {
     "data": {
      "text/plain": [
       "5     602\n",
       "4     452\n",
       "1     590\n",
       "14    506\n",
       "9     476\n",
       "15    322\n",
       "7     98 \n",
       "2     225\n",
       "6     76 \n",
       "8     45 \n",
       "13    517\n",
       "12    384\n",
       "10    566\n",
       "3     49 \n",
       "0     56 \n",
       "11    52 \n",
       "dtype: int64"
      ]
     },
     "execution_count": 6,
     "metadata": {},
     "output_type": "execute_result"
    }
   ],
   "source": [
    "total_matches = {}\n",
    "for index, row in train.iterrows():\n",
    "    total_matches[row['Team1']] = total_matches.get(row['Team1'], 0) + 1 \n",
    "    total_matches[row['Team2']] = total_matches.get(row['Team2'], 0) + 1\n",
    "total_matches = pd.Series(total_matches)\n",
    "total_matches"
   ]
  },
  {
   "cell_type": "code",
   "execution_count": 7,
   "metadata": {},
   "outputs": [
    {
     "data": {
      "text/plain": [
       "0     0.482143\n",
       "1     0.642373\n",
       "2     0.311111\n",
       "3     0.163265\n",
       "4     0.524336\n",
       "5     0.528239\n",
       "6     0.434211\n",
       "7     0.244898\n",
       "8     0.333333\n",
       "9     0.468487\n",
       "10    0.558304\n",
       "11    0.346154\n",
       "12    0.638021\n",
       "13    0.475822\n",
       "14    0.517787\n",
       "15    0.270186\n",
       "dtype: float64"
      ]
     },
     "execution_count": 7,
     "metadata": {},
     "output_type": "execute_result"
    }
   ],
   "source": [
    "team_win_pct = win_count.div(total_matches)\n",
    "team_win_pct"
   ]
  },
  {
   "cell_type": "markdown",
   "metadata": {},
   "source": [
    "### converting to binary classification problem"
   ]
  },
  {
   "cell_type": "code",
   "execution_count": 8,
   "metadata": {},
   "outputs": [
    {
     "data": {
      "text/plain": [
       "0    0\n",
       "1    1\n",
       "2    1\n",
       "3    0\n",
       "4    1\n",
       "Name: MatchWinner, dtype: int64"
      ]
     },
     "execution_count": 8,
     "metadata": {},
     "output_type": "execute_result"
    }
   ],
   "source": [
    "train['MatchWinner'] = (train['Team1']==train['MatchWinner']).astype(int)\n",
    "train['MatchWinner'].head()"
   ]
  },
  {
   "cell_type": "code",
   "execution_count": 9,
   "metadata": {},
   "outputs": [
    {
     "name": "stdout",
     "output_type": "stream",
     "text": [
      "selected features are ['Team1', 'Team2', 'HostCountry', 'Team1_Venue', 'Team1_Innings']\n"
     ]
    },
    {
     "data": {
      "text/plain": [
       "((2508, 9), (1075, 9))"
      ]
     },
     "execution_count": 9,
     "metadata": {},
     "output_type": "execute_result"
    }
   ],
   "source": [
    "overall = train.append(test, sort=False)\n",
    "\n",
    "unwanted_cols = ['Team2_Venue', 'Team2_Innings', 'Stadium', 'MonthOfMatch']\n",
    "\n",
    "overall['Team1_winpct'] = overall['Team1'].map(team_win_pct)\n",
    "overall['Team2_winpct'] = overall['Team2'].map(team_win_pct)\n",
    "overall['winpct_diff'] = (overall['Team1'].map(team_win_pct) - overall['Team2'].map(team_win_pct))\n",
    "\n",
    "sel_cols = [col for col in cat_cols if col not in unwanted_cols]\n",
    "print(\"selected features are {}\".format(sel_cols))\n",
    "overall[sel_cols] = overall[sel_cols].astype('category')\n",
    "for col in sel_cols:\n",
    "    overall[col] = overall[col].cat.codes\n",
    "        \n",
    "overall = overall.drop(unwanted_cols, axis=1)\n",
    "\n",
    "train_data, test_data = overall[:len(train)].reset_index(drop=True), overall[len(train):].reset_index(drop=True)\n",
    "train_data.shape, test_data.shape"
   ]
  },
  {
   "cell_type": "code",
   "execution_count": 10,
   "metadata": {},
   "outputs": [
    {
     "data": {
      "text/html": [
       "<div>\n",
       "<style scoped>\n",
       "    .dataframe tbody tr th:only-of-type {\n",
       "        vertical-align: middle;\n",
       "    }\n",
       "\n",
       "    .dataframe tbody tr th {\n",
       "        vertical-align: top;\n",
       "    }\n",
       "\n",
       "    .dataframe thead th {\n",
       "        text-align: right;\n",
       "    }\n",
       "</style>\n",
       "<table border=\"1\" class=\"dataframe\">\n",
       "  <thead>\n",
       "    <tr style=\"text-align: right;\">\n",
       "      <th></th>\n",
       "      <th>Team1</th>\n",
       "      <th>Team2</th>\n",
       "      <th>HostCountry</th>\n",
       "      <th>Team1_Venue</th>\n",
       "      <th>Team1_Innings</th>\n",
       "      <th>MatchWinner</th>\n",
       "      <th>Team1_winpct</th>\n",
       "      <th>Team2_winpct</th>\n",
       "      <th>winpct_diff</th>\n",
       "    </tr>\n",
       "  </thead>\n",
       "  <tbody>\n",
       "    <tr>\n",
       "      <th>0</th>\n",
       "      <td>5</td>\n",
       "      <td>4</td>\n",
       "      <td>4</td>\n",
       "      <td>1</td>\n",
       "      <td>1</td>\n",
       "      <td>0.0</td>\n",
       "      <td>0.528239</td>\n",
       "      <td>0.524336</td>\n",
       "      <td>0.003903</td>\n",
       "    </tr>\n",
       "    <tr>\n",
       "      <th>1</th>\n",
       "      <td>1</td>\n",
       "      <td>14</td>\n",
       "      <td>7</td>\n",
       "      <td>2</td>\n",
       "      <td>0</td>\n",
       "      <td>1.0</td>\n",
       "      <td>0.642373</td>\n",
       "      <td>0.517787</td>\n",
       "      <td>0.124586</td>\n",
       "    </tr>\n",
       "    <tr>\n",
       "      <th>2</th>\n",
       "      <td>9</td>\n",
       "      <td>15</td>\n",
       "      <td>9</td>\n",
       "      <td>1</td>\n",
       "      <td>0</td>\n",
       "      <td>1.0</td>\n",
       "      <td>0.468487</td>\n",
       "      <td>0.270186</td>\n",
       "      <td>0.198301</td>\n",
       "    </tr>\n",
       "    <tr>\n",
       "      <th>3</th>\n",
       "      <td>7</td>\n",
       "      <td>2</td>\n",
       "      <td>6</td>\n",
       "      <td>1</td>\n",
       "      <td>0</td>\n",
       "      <td>0.0</td>\n",
       "      <td>0.244898</td>\n",
       "      <td>0.311111</td>\n",
       "      <td>-0.066213</td>\n",
       "    </tr>\n",
       "    <tr>\n",
       "      <th>4</th>\n",
       "      <td>6</td>\n",
       "      <td>8</td>\n",
       "      <td>5</td>\n",
       "      <td>1</td>\n",
       "      <td>0</td>\n",
       "      <td>1.0</td>\n",
       "      <td>0.434211</td>\n",
       "      <td>0.333333</td>\n",
       "      <td>0.100877</td>\n",
       "    </tr>\n",
       "  </tbody>\n",
       "</table>\n",
       "</div>"
      ],
      "text/plain": [
       "   Team1  Team2  HostCountry  Team1_Venue  Team1_Innings  MatchWinner  \\\n",
       "0  5      4      4            1            1              0.0           \n",
       "1  1      14     7            2            0              1.0           \n",
       "2  9      15     9            1            0              1.0           \n",
       "3  7      2      6            1            0              0.0           \n",
       "4  6      8      5            1            0              1.0           \n",
       "\n",
       "   Team1_winpct  Team2_winpct  winpct_diff  \n",
       "0  0.528239      0.524336      0.003903     \n",
       "1  0.642373      0.517787      0.124586     \n",
       "2  0.468487      0.270186      0.198301     \n",
       "3  0.244898      0.311111     -0.066213     \n",
       "4  0.434211      0.333333      0.100877     "
      ]
     },
     "execution_count": 10,
     "metadata": {},
     "output_type": "execute_result"
    }
   ],
   "source": [
    "overall.head()"
   ]
  },
  {
   "cell_type": "code",
   "execution_count": null,
   "metadata": {},
   "outputs": [],
   "source": []
  },
  {
   "cell_type": "markdown",
   "metadata": {},
   "source": [
    "### cross validation"
   ]
  },
  {
   "cell_type": "code",
   "execution_count": 11,
   "metadata": {},
   "outputs": [],
   "source": [
    "drop_cols = []"
   ]
  },
  {
   "cell_type": "code",
   "execution_count": 12,
   "metadata": {},
   "outputs": [
    {
     "name": "stdout",
     "output_type": "stream",
     "text": [
      "FOLD:1 SCORE:0.61\n",
      "FOLD:2 SCORE:0.59\n",
      "FOLD:3 SCORE:0.64\n",
      "FOLD:4 SCORE:0.60\n",
      "FOLD:5 SCORE:0.63\n",
      "CV score is 0.6138881507658216\n",
      "CPU times: user 7.09 s, sys: 626 ms, total: 7.72 s\n",
      "Wall time: 1.34 s\n"
     ]
    }
   ],
   "source": [
    "%%time\n",
    "\n",
    "import lightgbm as lgb\n",
    "from sklearn.model_selection import StratifiedKFold, KFold\n",
    "from sklearn.metrics import log_loss\n",
    "\n",
    "preds = []\n",
    "\n",
    "valid_score_list = []\n",
    "\n",
    "cv = StratifiedKFold(n_splits=5) \n",
    "\n",
    "for i, (train_ind, test_ind) in enumerate(cv.split(train_data, train_data[target])):\n",
    "    data_train = train_data.iloc[train_ind].reset_index(drop=True)\n",
    "    data_valid = train_data.iloc[test_ind].reset_index(drop=True)\n",
    "    data_test = test_data.reset_index(drop=True)\n",
    "\n",
    "    for col in ['Team1', 'Team2']:\n",
    "        mean_val = data_train.groupby(col)[target].mean()\n",
    "        data_train[col] = data_train[col].map(mean_val)\n",
    "        data_valid[col] = data_valid[col].map(mean_val)\n",
    "        data_test[col] = data_test[col].map(mean_val)\n",
    "            \n",
    "    clf = lgb.LGBMClassifier(verbose=0, n_estimators=1000,\n",
    "                             num_leaves=5,\n",
    "                             min_child_samples=60,\n",
    "                             colsample_bytree=0.8\n",
    "                            )\n",
    "\n",
    "    X_train = data_train.drop([target]+drop_cols, axis=1)\n",
    "    X_valid = data_valid.drop([target]+drop_cols, axis=1)\n",
    "    X_test = data_test.drop([target]+drop_cols, axis=1)\n",
    "    \n",
    "    clf.fit(X_train, \n",
    "            data_train[target],#)\n",
    "            eval_set=[(X_valid, data_valid[target])], \n",
    "            early_stopping_rounds=50, \n",
    "            verbose=0)\n",
    "    \n",
    "    valid_prediction = clf.predict_proba(X_valid)\n",
    "    test_prediction = clf.predict_proba(X_test)    \n",
    "    valid_prediction = np.clip(valid_prediction, 0.05, 0.95)\n",
    "\n",
    "    valid_score = log_loss(data_valid[target], valid_prediction)\n",
    "    valid_score_list.append(valid_score)\n",
    "    print(\"FOLD:{} SCORE:{:0.2f}\".format(i+1, valid_score))\n",
    "    \n",
    "    preds.append(test_prediction)\n",
    "    \n",
    "print(\"CV score is {}\".format(np.mean(valid_score_list)))"
   ]
  },
  {
   "cell_type": "code",
   "execution_count": 13,
   "metadata": {},
   "outputs": [
    {
     "data": {
      "text/plain": [
       "<matplotlib.axes._subplots.AxesSubplot at 0x12333b828>"
      ]
     },
     "execution_count": 13,
     "metadata": {},
     "output_type": "execute_result"
    },
    {
     "data": {
      "image/png": "[encoded data removed]",
      "text/plain": [
       "<Figure size 360x1080 with 1 Axes>"
      ]
     },
     "metadata": {
      "needs_background": "light"
     },
     "output_type": "display_data"
    }
   ],
   "source": [
    "lgb.plot_importance(clf, figsize=(5,15))"
   ]
  },
  {
   "cell_type": "markdown",
   "metadata": {},
   "source": [
    "### submission"
   ]
  },
  {
   "cell_type": "code",
   "execution_count": 14,
   "metadata": {},
   "outputs": [],
   "source": [
    "prediction = np.mean(preds, axis=0)\n",
    "prediction = np.clip(prediction, 0.05, 0.95)"
   ]
  },
  {
   "cell_type": "code",
   "execution_count": 15,
   "metadata": {},
   "outputs": [],
   "source": [
    "result = np.zeros((len(test), 16))\n",
    "\n",
    "for i, (team1, team2) in enumerate(test[['Team1', 'Team2']].values):\n",
    "    result[i, team1] = prediction[i, 1]\n",
    "    result[i, team2] = prediction[i, 0]"
   ]
  },
  {
   "cell_type": "code",
   "execution_count": 16,
   "metadata": {},
   "outputs": [
    {
     "data": {
      "text/html": [
       "<div>\n",
       "<style scoped>\n",
       "    .dataframe tbody tr th:only-of-type {\n",
       "        vertical-align: middle;\n",
       "    }\n",
       "\n",
       "    .dataframe tbody tr th {\n",
       "        vertical-align: top;\n",
       "    }\n",
       "\n",
       "    .dataframe thead th {\n",
       "        text-align: right;\n",
       "    }\n",
       "</style>\n",
       "<table border=\"1\" class=\"dataframe\">\n",
       "  <thead>\n",
       "    <tr style=\"text-align: right;\">\n",
       "      <th></th>\n",
       "      <th>0</th>\n",
       "      <th>1</th>\n",
       "      <th>2</th>\n",
       "      <th>3</th>\n",
       "      <th>4</th>\n",
       "      <th>5</th>\n",
       "      <th>6</th>\n",
       "      <th>7</th>\n",
       "      <th>8</th>\n",
       "      <th>9</th>\n",
       "      <th>10</th>\n",
       "      <th>11</th>\n",
       "      <th>12</th>\n",
       "      <th>13</th>\n",
       "      <th>14</th>\n",
       "      <th>15</th>\n",
       "    </tr>\n",
       "  </thead>\n",
       "  <tbody>\n",
       "    <tr>\n",
       "      <th>0</th>\n",
       "      <td>0.0</td>\n",
       "      <td>0.000000</td>\n",
       "      <td>0.284349</td>\n",
       "      <td>0.0</td>\n",
       "      <td>0.715651</td>\n",
       "      <td>0.000000</td>\n",
       "      <td>0.0</td>\n",
       "      <td>0.0</td>\n",
       "      <td>0.0</td>\n",
       "      <td>0.000000</td>\n",
       "      <td>0.000000</td>\n",
       "      <td>0.0</td>\n",
       "      <td>0.0</td>\n",
       "      <td>0.0</td>\n",
       "      <td>0.000000</td>\n",
       "      <td>0.000000</td>\n",
       "    </tr>\n",
       "    <tr>\n",
       "      <th>1</th>\n",
       "      <td>0.0</td>\n",
       "      <td>0.610252</td>\n",
       "      <td>0.000000</td>\n",
       "      <td>0.0</td>\n",
       "      <td>0.000000</td>\n",
       "      <td>0.000000</td>\n",
       "      <td>0.0</td>\n",
       "      <td>0.0</td>\n",
       "      <td>0.0</td>\n",
       "      <td>0.000000</td>\n",
       "      <td>0.000000</td>\n",
       "      <td>0.0</td>\n",
       "      <td>0.0</td>\n",
       "      <td>0.0</td>\n",
       "      <td>0.389748</td>\n",
       "      <td>0.000000</td>\n",
       "    </tr>\n",
       "    <tr>\n",
       "      <th>2</th>\n",
       "      <td>0.0</td>\n",
       "      <td>0.000000</td>\n",
       "      <td>0.000000</td>\n",
       "      <td>0.0</td>\n",
       "      <td>0.000000</td>\n",
       "      <td>0.000000</td>\n",
       "      <td>0.0</td>\n",
       "      <td>0.0</td>\n",
       "      <td>0.0</td>\n",
       "      <td>0.415653</td>\n",
       "      <td>0.584347</td>\n",
       "      <td>0.0</td>\n",
       "      <td>0.0</td>\n",
       "      <td>0.0</td>\n",
       "      <td>0.000000</td>\n",
       "      <td>0.000000</td>\n",
       "    </tr>\n",
       "    <tr>\n",
       "      <th>3</th>\n",
       "      <td>0.0</td>\n",
       "      <td>0.000000</td>\n",
       "      <td>0.000000</td>\n",
       "      <td>0.0</td>\n",
       "      <td>0.000000</td>\n",
       "      <td>0.000000</td>\n",
       "      <td>0.0</td>\n",
       "      <td>0.0</td>\n",
       "      <td>0.0</td>\n",
       "      <td>0.509564</td>\n",
       "      <td>0.490436</td>\n",
       "      <td>0.0</td>\n",
       "      <td>0.0</td>\n",
       "      <td>0.0</td>\n",
       "      <td>0.000000</td>\n",
       "      <td>0.000000</td>\n",
       "    </tr>\n",
       "    <tr>\n",
       "      <th>4</th>\n",
       "      <td>0.0</td>\n",
       "      <td>0.000000</td>\n",
       "      <td>0.000000</td>\n",
       "      <td>0.0</td>\n",
       "      <td>0.000000</td>\n",
       "      <td>0.787131</td>\n",
       "      <td>0.0</td>\n",
       "      <td>0.0</td>\n",
       "      <td>0.0</td>\n",
       "      <td>0.000000</td>\n",
       "      <td>0.000000</td>\n",
       "      <td>0.0</td>\n",
       "      <td>0.0</td>\n",
       "      <td>0.0</td>\n",
       "      <td>0.000000</td>\n",
       "      <td>0.212869</td>\n",
       "    </tr>\n",
       "  </tbody>\n",
       "</table>\n",
       "</div>"
      ],
      "text/plain": [
       "     0         1         2    3         4         5    6    7    8         9  \\\n",
       "0  0.0  0.000000  0.284349  0.0  0.715651  0.000000  0.0  0.0  0.0  0.000000   \n",
       "1  0.0  0.610252  0.000000  0.0  0.000000  0.000000  0.0  0.0  0.0  0.000000   \n",
       "2  0.0  0.000000  0.000000  0.0  0.000000  0.000000  0.0  0.0  0.0  0.415653   \n",
       "3  0.0  0.000000  0.000000  0.0  0.000000  0.000000  0.0  0.0  0.0  0.509564   \n",
       "4  0.0  0.000000  0.000000  0.0  0.000000  0.787131  0.0  0.0  0.0  0.000000   \n",
       "\n",
       "         10   11   12   13        14        15  \n",
       "0  0.000000  0.0  0.0  0.0  0.000000  0.000000  \n",
       "1  0.000000  0.0  0.0  0.0  0.389748  0.000000  \n",
       "2  0.584347  0.0  0.0  0.0  0.000000  0.000000  \n",
       "3  0.490436  0.0  0.0  0.0  0.000000  0.000000  \n",
       "4  0.000000  0.0  0.0  0.0  0.000000  0.212869  "
      ]
     },
     "execution_count": 16,
     "metadata": {},
     "output_type": "execute_result"
    }
   ],
   "source": [
    "sub = pd.DataFrame(result, columns=range(16))\n",
    "sub.to_excel(\"lgb_v2.xlsx\", index=None)\n",
    "\n",
    "sub.head()"
   ]
  },
  {
   "cell_type": "code",
   "execution_count": null,
   "metadata": {},
   "outputs": [],
   "source": []
  },
  {
   "cell_type": "code",
   "execution_count": null,
   "metadata": {},
   "outputs": [],
   "source": []
  }
 ],
 "metadata": {
  "kernelspec": {
   "display_name": "Python 3",
   "language": "python",
   "name": "python3"
  },
  "language_info": {
   "codemirror_mode": {
    "name": "ipython",
    "version": 3
   },
   "file_extension": ".py",
   "mimetype": "text/x-python",
   "name": "python",
   "nbconvert_exporter": "python",
   "pygments_lexer": "ipython3",
   "version": "3.6.9"
  },
  "toc": {
   "base_numbering": 1,
   "nav_menu": {},
   "number_sections": true,
   "sideBar": true,
   "skip_h1_title": false,
   "title_cell": "Table of Contents",
   "title_sidebar": "Contents",
   "toc_cell": true,
   "toc_position": {},
   "toc_section_display": true,
   "toc_window_display": true
  }
 },
 "nbformat": 4,
 "nbformat_minor": 4
}
